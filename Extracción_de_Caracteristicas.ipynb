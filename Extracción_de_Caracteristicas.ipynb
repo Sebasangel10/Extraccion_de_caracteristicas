{
  "nbformat": 4,
  "nbformat_minor": 0,
  "metadata": {
    "colab": {
      "provenance": [],
      "authorship_tag": "ABX9TyOodSGoK88RCS+V3nCTdW37",
      "include_colab_link": true
    },
    "kernelspec": {
      "name": "python3",
      "display_name": "Python 3"
    },
    "language_info": {
      "name": "python"
    }
  },
  "cells": [
    {
      "cell_type": "markdown",
      "metadata": {
        "id": "view-in-github",
        "colab_type": "text"
      },
      "source": [
        "<a href=\"https://colab.research.google.com/github/Sebasangel10/Extraccion_de_caracteristicas/blob/main/Extracci%C3%B3n_de_Caracteristicas.ipynb\" target=\"_parent\"><img src=\"https://colab.research.google.com/assets/colab-badge.svg\" alt=\"Open In Colab\"/></a>"
      ]
    },
    {
      "cell_type": "code",
      "execution_count": null,
      "metadata": {
        "id": "oHGjNRmmycRe"
      },
      "outputs": [],
      "source": [
        "#instalemos librerias\n",
        "%pip install funpymodeling"
      ]
    },
    {
      "cell_type": "code",
      "source": [
        "#librerias\n",
        "import pandas as pd\n",
        "import numpy as np\n",
        "import matplotlib.pyplot as plt\n",
        "from funpymodeling.exploratory import freq_tbl"
      ],
      "metadata": {
        "id": "aFLffGy4yqJg"
      },
      "execution_count": null,
      "outputs": []
    },
    {
      "cell_type": "code",
      "source": [
        "#cargar archivo csv desde google colab\n",
        "from google.colab import files\n",
        "files.upload()"
      ],
      "metadata": {
        "id": "bkNsQCGXyutd"
      },
      "execution_count": null,
      "outputs": []
    },
    {
      "cell_type": "markdown",
      "source": [
        "Empezaremos con la base de datos de la experiencia de los consumidores"
      ],
      "metadata": {
        "id": "LpiXHmhm5ivp"
      }
    },
    {
      "cell_type": "code",
      "source": [
        "df = pd.read_excel('consumer_mit_lift_lab.xlsx')\n",
        "df"
      ],
      "metadata": {
        "id": "nOuK_ZMh4ern"
      },
      "execution_count": null,
      "outputs": []
    },
    {
      "cell_type": "code",
      "source": [
        "#Verificamos información del DataFrame\n",
        "df.info()"
      ],
      "metadata": {
        "id": "ttwaQWGrzeXC"
      },
      "execution_count": null,
      "outputs": []
    },
    {
      "cell_type": "code",
      "source": [
        "df['81_number_online_purchases_month'] = df['81_number_online_purchases_month'].astype(float)\n",
        "df['241_age_of_the_interviewee'] = df['241_age_of_the_interviewee'].astype(float)"
      ],
      "metadata": {
        "id": "UMrzbarc83gC"
      },
      "execution_count": null,
      "outputs": []
    },
    {
      "cell_type": "code",
      "source": [
        "dfl= df.drop(['_record_id','_server_updated_at','_updated_by','_geometry','_latitude','_longitude','300_did_not_find','238_frequency_buying_store','284_additional_products_store','305_electricity_bill_store','288_number_app_purchases_month','289_number_whatsapp_purchases_month','83_willingness_ultrafast_delivery','84_willingness_sameday_delivery','name_of_the_store','storefront_picture_just_once_if_possible','306_water_bill_store','307_gas_bill_store','286_topups','308_topups_in_store','287_wire_transfers','237_distance_household_interviewee','309_wiretransfers_in_store','320_other_services_in_store','304_additional_services_store'], axis=1)\n",
        "dfl"
      ],
      "metadata": {
        "id": "aHILd_9352yD"
      },
      "execution_count": null,
      "outputs": []
    },
    {
      "cell_type": "code",
      "source": [
        "dfl.info()"
      ],
      "metadata": {
        "id": "Z9OhY6-N-Fz3"
      },
      "execution_count": null,
      "outputs": []
    },
    {
      "cell_type": "code",
      "source": [
        "#Corroboramos valores nulos\n",
        "valores_nulos=dfl.isnull().sum()\n",
        "valores_nulos"
      ],
      "metadata": {
        "id": "l9-wmO8F8PVe"
      },
      "execution_count": null,
      "outputs": []
    },
    {
      "cell_type": "code",
      "source": [
        "filtroout1=dfl.iloc[ : ,[7,8]]\n",
        "filtroout1"
      ],
      "metadata": {
        "id": "S9TfS_JqIYm-"
      },
      "execution_count": null,
      "outputs": []
    },
    {
      "cell_type": "code",
      "source": [
        "#Checamos outliers\n",
        "fig = plt.figure(figsize =(15, 8))\n",
        "filtroout1.plot(kind='box', vert=False)\n",
        "plt.title(\"Valores Atípicos del Dataframe\")\n",
        "plt.show() #dibujamos el diagrama"
      ],
      "metadata": {
        "id": "FBPxSijv8mCg"
      },
      "execution_count": null,
      "outputs": []
    },
    {
      "cell_type": "code",
      "source": [],
      "metadata": {
        "id": "QESYo5tQ-T7P"
      },
      "execution_count": null,
      "outputs": []
    },
    {
      "cell_type": "code",
      "source": [
        "#Método aplicando Cuartiles. Encuentro cuartiles 0.25 y 0.75\n",
        "y=filtroout1\n",
        "\n",
        "percentile25=y.quantile(0.25) #Q1\n",
        "percentile75=y.quantile(0.75) #Q3\n",
        "iqr= percentile75 - percentile25\n",
        "\n",
        "Limite_Superior_iqr= percentile75 + 1.5*iqr\n",
        "Limite_Inferior_iqr= percentile25 - 1.5*iqr\n",
        "print(\"Limite superior permitido\", Limite_Superior_iqr)\n",
        "print(\"Limite inferior permitido\", Limite_Inferior_iqr)"
      ],
      "metadata": {
        "id": "fAaKv0-m8ww3"
      },
      "execution_count": null,
      "outputs": []
    },
    {
      "cell_type": "code",
      "source": [
        "#Encontramos Outliers del Dataframe\n",
        "outliers_iqr= filtroout1[(y>Limite_Superior_iqr)|(y<Limite_Inferior_iqr)]\n",
        "outliers_iqr"
      ],
      "metadata": {
        "id": "6dw6fA2dIz26"
      },
      "execution_count": null,
      "outputs": []
    },
    {
      "cell_type": "code",
      "source": [
        "#Obtenemos datos limpios del Dataframe\n",
        "dflimp_iqr= filtroout1[(y<=Limite_Superior_iqr)&(y>=Limite_Inferior_iqr)]\n",
        "dflimp_iqr"
      ],
      "metadata": {
        "id": "fWr1x8RUJAM3"
      },
      "execution_count": null,
      "outputs": []
    },
    {
      "cell_type": "code",
      "source": [
        "#Corroboramos valores nulos del dataframe LIMPIO\n",
        "valores_nulos1=dflimp_iqr.isnull().sum()\n",
        "valores_nulos1"
      ],
      "metadata": {
        "id": "2U4rWIsLJGvt"
      },
      "execution_count": null,
      "outputs": []
    },
    {
      "cell_type": "code",
      "source": [
        "#Reemplazamos valores atípicos (nulos) del dataframe con \"mean\"\n",
        "dflimp_iqr=dflimp_iqr.copy()\n",
        "dflimp_iqr=dflimp_iqr.fillna(round(dflimp_iqr.mean(),1))\n",
        "dflimp_iqr"
      ],
      "metadata": {
        "id": "xiLgt9V8JTKp"
      },
      "execution_count": null,
      "outputs": []
    },
    {
      "cell_type": "code",
      "source": [
        "# Unimos las columnas de outliers con el dataframe\n",
        "\n",
        "outliers1=dflimp_iqr\n",
        "Datos_limpios1 = pd.concat([outliers1, dfl], axis=1)\n",
        "Datos_limpios1"
      ],
      "metadata": {
        "id": "5axb8I24JuJp"
      },
      "execution_count": null,
      "outputs": []
    },
    {
      "cell_type": "code",
      "source": [
        "#cargar archivo csv desde google colab\n",
        "from google.colab import files\n",
        "files.upload()"
      ],
      "metadata": {
        "id": "aMEw3XkYATZh"
      },
      "execution_count": null,
      "outputs": []
    },
    {
      "cell_type": "code",
      "source": [
        "df1 = pd.read_excel('microretailer_mit_lift_lab.xlsx')\n",
        "df1"
      ],
      "metadata": {
        "id": "TDpJ6iYkAcjB"
      },
      "execution_count": null,
      "outputs": []
    },
    {
      "cell_type": "code",
      "source": [
        "filtrodf=df1.iloc[ : ,[9,13,21,22,24,25,26,31,34,36]]\n",
        "filtrodf"
      ],
      "metadata": {
        "id": "EQnxZCmoA2ZE"
      },
      "execution_count": null,
      "outputs": []
    },
    {
      "cell_type": "code",
      "source": [
        "filtrodf.info()"
      ],
      "metadata": {
        "id": "LngeyRbKD3wU"
      },
      "execution_count": null,
      "outputs": []
    },
    {
      "cell_type": "code",
      "source": [
        "#Corroboramos valores nulos\n",
        "valores_nulos=filtrodf.isnull().sum()\n",
        "valores_nulos"
      ],
      "metadata": {
        "id": "9riBxgywD_yc"
      },
      "execution_count": null,
      "outputs": []
    },
    {
      "cell_type": "code",
      "source": [
        "filtrodf[\"2_current_permanent_employees\"] =filtrodf[\"2_current_permanent_employees\"].fillna(\"NR\")\n",
        "filtrodf[\"4_number_permanent_employees_last_year\"] =filtrodf[\"4_number_permanent_employees_last_year\"].fillna(\"NR\")\n",
        "filtrodf[\"6_change_employees_average_salary_last_year\"] =filtrodf[\"6_change_employees_average_salary_last_year\"].fillna(\"NR\")\n",
        "filtrodf[\"20_reviews_finances_monthly\"] =filtrodf[\"20_reviews_finances_monthly\"].fillna(\"NR\")\n",
        "filtrodf[\"49_inventory_records\"] =filtrodf[\"49_inventory_records\"].fillna(\"NR\")\n",
        "filtrodf[\"145_number_direct_competitors\"] =filtrodf[\"145_number_direct_competitors\"].fillna(\"NR\")\n",
        "filtrodf[\"186_internet_connection\"] =filtrodf[\"186_internet_connection\"].fillna(\"NR\")\n",
        "filtrodf[\"189_payment_methods\"] =filtrodf[\"189_payment_methods\"].fillna(\"NR\")\n",
        "filtrodf"
      ],
      "metadata": {
        "id": "FhU1Fne-Ecxs"
      },
      "execution_count": null,
      "outputs": []
    },
    {
      "cell_type": "code",
      "source": [
        "#Corroboramos valores nulos del dataframe\n",
        "valores_nulos=filtrodf.isnull().sum()\n",
        "valores_nulos"
      ],
      "metadata": {
        "id": "ONVFgZXdFQhR"
      },
      "execution_count": null,
      "outputs": []
    },
    {
      "cell_type": "code",
      "source": [
        "filtroout=df1.iloc[ : ,13]\n",
        "filtroout"
      ],
      "metadata": {
        "id": "JjhegJO_G3kG"
      },
      "execution_count": null,
      "outputs": []
    },
    {
      "cell_type": "code",
      "source": [
        "#Checamos outliers\n",
        "fig = plt.figure(figsize =(15, 8))\n",
        "filtroout.plot(kind='box', vert=False)\n",
        "plt.title(\"Valores Atípicos del Dataframe\")\n",
        "plt.show() #dibujamos el diagrama"
      ],
      "metadata": {
        "id": "0MePBmKwFWoB"
      },
      "execution_count": null,
      "outputs": []
    },
    {
      "cell_type": "code",
      "source": [
        "filtrodf['97_number_of_customers_in_store'] = filtrodf['97_number_of_customers_in_store'].astype(float)"
      ],
      "metadata": {
        "id": "KOD58sV_Fy1Z"
      },
      "execution_count": null,
      "outputs": []
    },
    {
      "cell_type": "code",
      "source": [
        "filtroout.info()"
      ],
      "metadata": {
        "id": "WHJ3ToBzF69M"
      },
      "execution_count": null,
      "outputs": []
    },
    {
      "cell_type": "code",
      "source": [
        "#Método aplicando Cuartiles. Encuentro cuartiles 0.25 y 0.75\n",
        "y=filtroout\n",
        "\n",
        "percentile25=y.quantile(0.25) #Q1\n",
        "percentile75=y.quantile(0.75) #Q3\n",
        "iqr= percentile75 - percentile25\n",
        "\n",
        "Limite_Superior_iqr= percentile75 + 1.5*iqr\n",
        "Limite_Inferior_iqr= percentile25 - 1.5*iqr\n",
        "print(\"Limite superior permitido\", Limite_Superior_iqr)\n",
        "print(\"Limite inferior permitido\", Limite_Inferior_iqr)"
      ],
      "metadata": {
        "id": "uhZrxY4oFiJI"
      },
      "execution_count": null,
      "outputs": []
    },
    {
      "cell_type": "code",
      "source": [
        "#Encontramos Outliers del Dataframe\n",
        "outliers_iqr= filtroout[(y>Limite_Superior_iqr)|(y<Limite_Inferior_iqr)]\n",
        "outliers_iqr"
      ],
      "metadata": {
        "id": "2a-dkb29HWln"
      },
      "execution_count": null,
      "outputs": []
    },
    {
      "cell_type": "code",
      "source": [
        "#Obtenemos datos limpios del Dataframe\n",
        "dflimp_iqr= filtroout[(y<=Limite_Superior_iqr)&(y>=Limite_Inferior_iqr)]\n",
        "dflimp_iqr"
      ],
      "metadata": {
        "id": "ww0fR_5nHcwX"
      },
      "execution_count": null,
      "outputs": []
    },
    {
      "cell_type": "code",
      "source": [
        "#Corroboramos valores nulos del dataframe LIMPIO\n",
        "valores_nulos=dflimp_iqr.isnull().sum()\n",
        "valores_nulos"
      ],
      "metadata": {
        "colab": {
          "base_uri": "https://localhost:8080/"
        },
        "id": "yhS3YGQ8HimC",
        "outputId": "5a2e6ee4-e865-4f2c-bc5a-afa3f993b733"
      },
      "execution_count": null,
      "outputs": [
        {
          "output_type": "execute_result",
          "data": {
            "text/plain": [
              "0"
            ]
          },
          "metadata": {},
          "execution_count": 42
        }
      ]
    },
    {
      "cell_type": "code",
      "source": [
        "# Unimos las columnas de outliers con el dataframe\n",
        "\n",
        "outliers=filtroout\n",
        "Datos_limpios = pd.concat([outliers, filtrodf], axis=1)\n",
        "Datos_limpios"
      ],
      "metadata": {
        "id": "Pj0skcOAHmST"
      },
      "execution_count": null,
      "outputs": []
    },
    {
      "cell_type": "code",
      "source": [
        "# Unimos las columnas limpias de los dos dataframes\n",
        "\n",
        "outliers=Datos_limpios\n",
        "Las_columnas = pd.concat([outliers, Datos_limpios1], axis=1)\n",
        "Las_columnas"
      ],
      "metadata": {
        "id": "neo6kjCvyPCt"
      },
      "execution_count": null,
      "outputs": []
    },
    {
      "cell_type": "code",
      "source": [
        "Las_columnas['97_number_of_customers_in_store'] = Las_columnas['97_number_of_customers_in_store'].astype(object)"
      ],
      "metadata": {
        "id": "8g0YkT2SN0UI"
      },
      "execution_count": 86,
      "outputs": []
    },
    {
      "cell_type": "code",
      "source": [
        "Las_columnas.info()"
      ],
      "metadata": {
        "id": "baEgZD_ZyzEB"
      },
      "execution_count": null,
      "outputs": []
    },
    {
      "cell_type": "code",
      "source": [
        "#obtengo analisis univariado de una variable categorica espesifica\n",
        "table1=freq_tbl(Las_columnas['232_type_of_store'])\n",
        "table1"
      ],
      "metadata": {
        "id": "SkjFSmlcVYUc"
      },
      "execution_count": null,
      "outputs": []
    },
    {
      "cell_type": "code",
      "source": [
        "#obtengo analisis univariado de una variable categorica espesifica\n",
        "table2=freq_tbl(Las_columnas['282_payment_method_that_purchase'])\n",
        "table2"
      ],
      "metadata": {
        "id": "a4nIyBjkwWpL"
      },
      "execution_count": null,
      "outputs": []
    },
    {
      "cell_type": "code",
      "source": [
        "#Filtro los valores mas relevantes de la variable categorica\n",
        "Filtro= table2[table2['frequency']>1]\n",
        "Filtro"
      ],
      "metadata": {
        "id": "SyVfVbj-xa_V"
      },
      "execution_count": null,
      "outputs": []
    },
    {
      "cell_type": "code",
      "source": [
        "#Adjusto el indice de mi data frame\n",
        "Filtro_index=Filtro.set_index('282_payment_method_that_purchase')\n",
        "Filtro_index"
      ],
      "metadata": {
        "id": "AzqX4Ls0xeiZ"
      },
      "execution_count": null,
      "outputs": []
    },
    {
      "cell_type": "code",
      "source": [
        "#relaizemos un grafico del dataframe\n",
        "Filtro_index.plot(kind= 'bar', width=1, figsize=(10,4))\n",
        "plt.title('Formas de Pago')\n",
        "plt.xlabel('Formas de Pago')\n",
        "plt.ylabel('Frecuencia')"
      ],
      "metadata": {
        "id": "pg43ntTmwfHi"
      },
      "execution_count": null,
      "outputs": []
    },
    {
      "cell_type": "code",
      "source": [
        "#Filtro los valores mas relevantes de la variable categorica\n",
        "Filtro1= table1[table1['frequency']>1]\n",
        "Filtro1"
      ],
      "metadata": {
        "id": "8InbCB9Xz7yj"
      },
      "execution_count": null,
      "outputs": []
    },
    {
      "cell_type": "code",
      "source": [
        "#Adjusto el indice de mi data frame\n",
        "Filtro1_index1=Filtro1.set_index('232_type_of_store')\n",
        "Filtro1_index1"
      ],
      "metadata": {
        "id": "Nr4HBXTe0ayM"
      },
      "execution_count": null,
      "outputs": []
    },
    {
      "cell_type": "code",
      "source": [
        "#relaizemos un grafico del dataframe\n",
        "Filtro1_index1.plot(kind= 'bar', width=1, figsize=(10,4))\n",
        "plt.title('Tipos de Tienda')\n",
        "plt.xlabel('Tipo')\n",
        "plt.ylabel('Frecuencia')"
      ],
      "metadata": {
        "id": "20RV7BFK0xtr"
      },
      "execution_count": null,
      "outputs": []
    },
    {
      "cell_type": "code",
      "source": [
        "table3=freq_tbl(Las_columnas['283_fulfill_needs'])\n",
        "table3"
      ],
      "metadata": {
        "id": "Mu5LrNRmLVKw"
      },
      "execution_count": null,
      "outputs": []
    },
    {
      "cell_type": "code",
      "source": [
        "table4=freq_tbl(Las_columnas['186_internet_connection'])\n",
        "table4"
      ],
      "metadata": {
        "id": "fy8hnRrpLnM2"
      },
      "execution_count": null,
      "outputs": []
    },
    {
      "cell_type": "code",
      "source": [
        "table5=freq_tbl(Las_columnas['301_electricity_bill'])\n",
        "table5"
      ],
      "metadata": {
        "id": "SMUX4hdZL7VJ"
      },
      "execution_count": null,
      "outputs": []
    },
    {
      "cell_type": "code",
      "source": [
        "table6=freq_tbl(Las_columnas['302_water_bill'])\n",
        "table6"
      ],
      "metadata": {
        "id": "FPPc9e9XMT_2"
      },
      "execution_count": null,
      "outputs": []
    },
    {
      "cell_type": "code",
      "source": [
        "table7=freq_tbl(Las_columnas['303_gas_bill'])\n",
        "table7"
      ],
      "metadata": {
        "id": "Bfh5purYMcKm"
      },
      "execution_count": null,
      "outputs": []
    },
    {
      "cell_type": "code",
      "source": [
        "table8=freq_tbl(Las_columnas['240_gender_interviewee'])\n",
        "table8"
      ],
      "metadata": {
        "id": "PWkaAfS2MnnR"
      },
      "execution_count": null,
      "outputs": []
    },
    {
      "cell_type": "code",
      "source": [
        "table9=freq_tbl(Las_columnas['20_reviews_finances_monthly'])\n",
        "table9"
      ],
      "metadata": {
        "id": "fWw7MgFUMy4d"
      },
      "execution_count": null,
      "outputs": []
    },
    {
      "cell_type": "code",
      "source": [
        "table10=freq_tbl(Las_columnas['49_inventory_records'])\n",
        "table10"
      ],
      "metadata": {
        "id": "GRtpEageNhaa"
      },
      "execution_count": null,
      "outputs": []
    },
    {
      "cell_type": "code",
      "source": [
        "table11=freq_tbl(Las_columnas['_title'])\n",
        "table11"
      ],
      "metadata": {
        "id": "00hB2ybrNtyW"
      },
      "execution_count": null,
      "outputs": []
    },
    {
      "cell_type": "code",
      "source": [
        "table12=freq_tbl(Las_columnas['299_means_transportation_consumer'])\n",
        "table12"
      ],
      "metadata": {
        "id": "Y74rBbiROgpL"
      },
      "execution_count": null,
      "outputs": []
    },
    {
      "cell_type": "code",
      "source": [
        "table13=freq_tbl(Las_columnas['indicate_the_type_of_store'])\n",
        "table13"
      ],
      "metadata": {
        "id": "FB_DLwH_ObFw"
      },
      "execution_count": null,
      "outputs": []
    },
    {
      "cell_type": "code",
      "source": [
        "table13=freq_tbl(df1['184_store_devices'])\n",
        "table13"
      ],
      "metadata": {
        "id": "QbZrECIfQIB9"
      },
      "execution_count": null,
      "outputs": []
    },
    {
      "cell_type": "code",
      "source": [
        "table14=freq_tbl(df1['5_change_store_space_last_year'])\n",
        "table14"
      ],
      "metadata": {
        "id": "eZWUjWCMQHH2"
      },
      "execution_count": null,
      "outputs": []
    },
    {
      "cell_type": "code",
      "source": [
        "table15=freq_tbl(df1['310_burnout'])\n",
        "table15"
      ],
      "metadata": {
        "id": "7P_8-1G-Re-F"
      },
      "execution_count": null,
      "outputs": []
    },
    {
      "cell_type": "code",
      "source": [
        "table16=freq_tbl(df['237_distance_household_interviewee'])\n",
        "table16"
      ],
      "metadata": {
        "id": "VPP9qvXnRtwq"
      },
      "execution_count": null,
      "outputs": []
    },
    {
      "cell_type": "code",
      "source": [
        "table17=freq_tbl(df1['210_sales_channels'])\n",
        "table17"
      ],
      "metadata": {
        "id": "oHD_mXz_R_Zk"
      },
      "execution_count": null,
      "outputs": []
    },
    {
      "cell_type": "code",
      "source": [
        "table18=freq_tbl(df1['193_sales_planning_tools'])\n",
        "table18"
      ],
      "metadata": {
        "id": "4tShmyUtSecj"
      },
      "execution_count": null,
      "outputs": []
    },
    {
      "cell_type": "code",
      "source": [
        "table19=freq_tbl(df1['157_frequency_organize_shelves'])\n",
        "table19"
      ],
      "metadata": {
        "id": "YYRfStuvSzU1"
      },
      "execution_count": null,
      "outputs": []
    },
    {
      "cell_type": "code",
      "source": [
        "table20=freq_tbl(df1['69_why_not_services'])\n",
        "table20"
      ],
      "metadata": {
        "colab": {
          "base_uri": "https://localhost:8080/",
          "height": 676
        },
        "id": "6Z8HoLqpS2s2",
        "outputId": "2ed996c7-3aa8-41b8-adc2-e96d9b6d4fa5"
      },
      "execution_count": 105,
      "outputs": [
        {
          "output_type": "execute_result",
          "data": {
            "text/plain": [
              "                                  69_why_not_services  frequency  percentage  \\\n",
              "0                            No conozco los servicios          7    0.040936   \n",
              "1            No quiero involucrarme con la tecnología          7    0.040936   \n",
              "2             No creo que represente grandes ingresos          6    0.035088   \n",
              "3                                         Es muy caro          4    0.023392   \n",
              "4   No conozco los servicios,No quiero involucrarm...          2    0.011696   \n",
              "5                                    no es requerido           1    0.005848   \n",
              "6                           No sabe cómo involucrarse          1    0.005848   \n",
              "7                                Se quiere involucrar          1    0.005848   \n",
              "8                                       Se vende ropa          1    0.005848   \n",
              "9   Es muy caro,No conozco los servicios,No creo q...          1    0.005848   \n",
              "10                                 no estamos listos           1    0.005848   \n",
              "11                                         mo lo vale          1    0.005848   \n",
              "12  Es muy caro,No creo que represente grandes ing...          1    0.005848   \n",
              "13                                         no lo vale          1    0.005848   \n",
              "14                            Es exclusivo panadería           1    0.005848   \n",
              "15                                      Pura taqueria          1    0.005848   \n",
              "16                                 Apenas son nuevos           1    0.005848   \n",
              "17                 No son funcionales para mi empresa          1    0.005848   \n",
              "18  No creo que represente grandes ingresos,No qui...          1    0.005848   \n",
              "19  Es muy caro,No quiero involucrarme con la tecn...          1    0.005848   \n",
              "\n",
              "    cumulative_perc  \n",
              "0          0.170732  \n",
              "1          0.341463  \n",
              "2          0.487805  \n",
              "3          0.585366  \n",
              "4          0.634146  \n",
              "5          0.658537  \n",
              "6          0.682927  \n",
              "7          0.707317  \n",
              "8          0.731707  \n",
              "9          0.756098  \n",
              "10         0.780488  \n",
              "11         0.804878  \n",
              "12         0.829268  \n",
              "13         0.853659  \n",
              "14         0.878049  \n",
              "15         0.902439  \n",
              "16         0.926829  \n",
              "17         0.951220  \n",
              "18         0.975610  \n",
              "19         1.000000  "
            ],
            "text/html": [
              "\n",
              "  <div id=\"df-fb3bdc4c-d90d-4aac-99ac-665b12e8a64e\" class=\"colab-df-container\">\n",
              "    <div>\n",
              "<style scoped>\n",
              "    .dataframe tbody tr th:only-of-type {\n",
              "        vertical-align: middle;\n",
              "    }\n",
              "\n",
              "    .dataframe tbody tr th {\n",
              "        vertical-align: top;\n",
              "    }\n",
              "\n",
              "    .dataframe thead th {\n",
              "        text-align: right;\n",
              "    }\n",
              "</style>\n",
              "<table border=\"1\" class=\"dataframe\">\n",
              "  <thead>\n",
              "    <tr style=\"text-align: right;\">\n",
              "      <th></th>\n",
              "      <th>69_why_not_services</th>\n",
              "      <th>frequency</th>\n",
              "      <th>percentage</th>\n",
              "      <th>cumulative_perc</th>\n",
              "    </tr>\n",
              "  </thead>\n",
              "  <tbody>\n",
              "    <tr>\n",
              "      <th>0</th>\n",
              "      <td>No conozco los servicios</td>\n",
              "      <td>7</td>\n",
              "      <td>0.040936</td>\n",
              "      <td>0.170732</td>\n",
              "    </tr>\n",
              "    <tr>\n",
              "      <th>1</th>\n",
              "      <td>No quiero involucrarme con la tecnología</td>\n",
              "      <td>7</td>\n",
              "      <td>0.040936</td>\n",
              "      <td>0.341463</td>\n",
              "    </tr>\n",
              "    <tr>\n",
              "      <th>2</th>\n",
              "      <td>No creo que represente grandes ingresos</td>\n",
              "      <td>6</td>\n",
              "      <td>0.035088</td>\n",
              "      <td>0.487805</td>\n",
              "    </tr>\n",
              "    <tr>\n",
              "      <th>3</th>\n",
              "      <td>Es muy caro</td>\n",
              "      <td>4</td>\n",
              "      <td>0.023392</td>\n",
              "      <td>0.585366</td>\n",
              "    </tr>\n",
              "    <tr>\n",
              "      <th>4</th>\n",
              "      <td>No conozco los servicios,No quiero involucrarm...</td>\n",
              "      <td>2</td>\n",
              "      <td>0.011696</td>\n",
              "      <td>0.634146</td>\n",
              "    </tr>\n",
              "    <tr>\n",
              "      <th>5</th>\n",
              "      <td>no es requerido</td>\n",
              "      <td>1</td>\n",
              "      <td>0.005848</td>\n",
              "      <td>0.658537</td>\n",
              "    </tr>\n",
              "    <tr>\n",
              "      <th>6</th>\n",
              "      <td>No sabe cómo involucrarse</td>\n",
              "      <td>1</td>\n",
              "      <td>0.005848</td>\n",
              "      <td>0.682927</td>\n",
              "    </tr>\n",
              "    <tr>\n",
              "      <th>7</th>\n",
              "      <td>Se quiere involucrar</td>\n",
              "      <td>1</td>\n",
              "      <td>0.005848</td>\n",
              "      <td>0.707317</td>\n",
              "    </tr>\n",
              "    <tr>\n",
              "      <th>8</th>\n",
              "      <td>Se vende ropa</td>\n",
              "      <td>1</td>\n",
              "      <td>0.005848</td>\n",
              "      <td>0.731707</td>\n",
              "    </tr>\n",
              "    <tr>\n",
              "      <th>9</th>\n",
              "      <td>Es muy caro,No conozco los servicios,No creo q...</td>\n",
              "      <td>1</td>\n",
              "      <td>0.005848</td>\n",
              "      <td>0.756098</td>\n",
              "    </tr>\n",
              "    <tr>\n",
              "      <th>10</th>\n",
              "      <td>no estamos listos</td>\n",
              "      <td>1</td>\n",
              "      <td>0.005848</td>\n",
              "      <td>0.780488</td>\n",
              "    </tr>\n",
              "    <tr>\n",
              "      <th>11</th>\n",
              "      <td>mo lo vale</td>\n",
              "      <td>1</td>\n",
              "      <td>0.005848</td>\n",
              "      <td>0.804878</td>\n",
              "    </tr>\n",
              "    <tr>\n",
              "      <th>12</th>\n",
              "      <td>Es muy caro,No creo que represente grandes ing...</td>\n",
              "      <td>1</td>\n",
              "      <td>0.005848</td>\n",
              "      <td>0.829268</td>\n",
              "    </tr>\n",
              "    <tr>\n",
              "      <th>13</th>\n",
              "      <td>no lo vale</td>\n",
              "      <td>1</td>\n",
              "      <td>0.005848</td>\n",
              "      <td>0.853659</td>\n",
              "    </tr>\n",
              "    <tr>\n",
              "      <th>14</th>\n",
              "      <td>Es exclusivo panadería</td>\n",
              "      <td>1</td>\n",
              "      <td>0.005848</td>\n",
              "      <td>0.878049</td>\n",
              "    </tr>\n",
              "    <tr>\n",
              "      <th>15</th>\n",
              "      <td>Pura taqueria</td>\n",
              "      <td>1</td>\n",
              "      <td>0.005848</td>\n",
              "      <td>0.902439</td>\n",
              "    </tr>\n",
              "    <tr>\n",
              "      <th>16</th>\n",
              "      <td>Apenas son nuevos</td>\n",
              "      <td>1</td>\n",
              "      <td>0.005848</td>\n",
              "      <td>0.926829</td>\n",
              "    </tr>\n",
              "    <tr>\n",
              "      <th>17</th>\n",
              "      <td>No son funcionales para mi empresa</td>\n",
              "      <td>1</td>\n",
              "      <td>0.005848</td>\n",
              "      <td>0.951220</td>\n",
              "    </tr>\n",
              "    <tr>\n",
              "      <th>18</th>\n",
              "      <td>No creo que represente grandes ingresos,No qui...</td>\n",
              "      <td>1</td>\n",
              "      <td>0.005848</td>\n",
              "      <td>0.975610</td>\n",
              "    </tr>\n",
              "    <tr>\n",
              "      <th>19</th>\n",
              "      <td>Es muy caro,No quiero involucrarme con la tecn...</td>\n",
              "      <td>1</td>\n",
              "      <td>0.005848</td>\n",
              "      <td>1.000000</td>\n",
              "    </tr>\n",
              "  </tbody>\n",
              "</table>\n",
              "</div>\n",
              "    <div class=\"colab-df-buttons\">\n",
              "\n",
              "  <div class=\"colab-df-container\">\n",
              "    <button class=\"colab-df-convert\" onclick=\"convertToInteractive('df-fb3bdc4c-d90d-4aac-99ac-665b12e8a64e')\"\n",
              "            title=\"Convert this dataframe to an interactive table.\"\n",
              "            style=\"display:none;\">\n",
              "\n",
              "  <svg xmlns=\"http://www.w3.org/2000/svg\" height=\"24px\" viewBox=\"0 -960 960 960\">\n",
              "    <path d=\"M120-120v-720h720v720H120Zm60-500h600v-160H180v160Zm220 220h160v-160H400v160Zm0 220h160v-160H400v160ZM180-400h160v-160H180v160Zm440 0h160v-160H620v160ZM180-180h160v-160H180v160Zm440 0h160v-160H620v160Z\"/>\n",
              "  </svg>\n",
              "    </button>\n",
              "\n",
              "  <style>\n",
              "    .colab-df-container {\n",
              "      display:flex;\n",
              "      gap: 12px;\n",
              "    }\n",
              "\n",
              "    .colab-df-convert {\n",
              "      background-color: #E8F0FE;\n",
              "      border: none;\n",
              "      border-radius: 50%;\n",
              "      cursor: pointer;\n",
              "      display: none;\n",
              "      fill: #1967D2;\n",
              "      height: 32px;\n",
              "      padding: 0 0 0 0;\n",
              "      width: 32px;\n",
              "    }\n",
              "\n",
              "    .colab-df-convert:hover {\n",
              "      background-color: #E2EBFA;\n",
              "      box-shadow: 0px 1px 2px rgba(60, 64, 67, 0.3), 0px 1px 3px 1px rgba(60, 64, 67, 0.15);\n",
              "      fill: #174EA6;\n",
              "    }\n",
              "\n",
              "    .colab-df-buttons div {\n",
              "      margin-bottom: 4px;\n",
              "    }\n",
              "\n",
              "    [theme=dark] .colab-df-convert {\n",
              "      background-color: #3B4455;\n",
              "      fill: #D2E3FC;\n",
              "    }\n",
              "\n",
              "    [theme=dark] .colab-df-convert:hover {\n",
              "      background-color: #434B5C;\n",
              "      box-shadow: 0px 1px 3px 1px rgba(0, 0, 0, 0.15);\n",
              "      filter: drop-shadow(0px 1px 2px rgba(0, 0, 0, 0.3));\n",
              "      fill: #FFFFFF;\n",
              "    }\n",
              "  </style>\n",
              "\n",
              "    <script>\n",
              "      const buttonEl =\n",
              "        document.querySelector('#df-fb3bdc4c-d90d-4aac-99ac-665b12e8a64e button.colab-df-convert');\n",
              "      buttonEl.style.display =\n",
              "        google.colab.kernel.accessAllowed ? 'block' : 'none';\n",
              "\n",
              "      async function convertToInteractive(key) {\n",
              "        const element = document.querySelector('#df-fb3bdc4c-d90d-4aac-99ac-665b12e8a64e');\n",
              "        const dataTable =\n",
              "          await google.colab.kernel.invokeFunction('convertToInteractive',\n",
              "                                                    [key], {});\n",
              "        if (!dataTable) return;\n",
              "\n",
              "        const docLinkHtml = 'Like what you see? Visit the ' +\n",
              "          '<a target=\"_blank\" href=https://colab.research.google.com/notebooks/data_table.ipynb>data table notebook</a>'\n",
              "          + ' to learn more about interactive tables.';\n",
              "        element.innerHTML = '';\n",
              "        dataTable['output_type'] = 'display_data';\n",
              "        await google.colab.output.renderOutput(dataTable, element);\n",
              "        const docLink = document.createElement('div');\n",
              "        docLink.innerHTML = docLinkHtml;\n",
              "        element.appendChild(docLink);\n",
              "      }\n",
              "    </script>\n",
              "  </div>\n",
              "\n",
              "\n",
              "<div id=\"df-f9a93599-02b0-4d24-8a76-fc2bc92ca0c8\">\n",
              "  <button class=\"colab-df-quickchart\" onclick=\"quickchart('df-f9a93599-02b0-4d24-8a76-fc2bc92ca0c8')\"\n",
              "            title=\"Suggest charts.\"\n",
              "            style=\"display:none;\">\n",
              "\n",
              "<svg xmlns=\"http://www.w3.org/2000/svg\" height=\"24px\"viewBox=\"0 0 24 24\"\n",
              "     width=\"24px\">\n",
              "    <g>\n",
              "        <path d=\"M19 3H5c-1.1 0-2 .9-2 2v14c0 1.1.9 2 2 2h14c1.1 0 2-.9 2-2V5c0-1.1-.9-2-2-2zM9 17H7v-7h2v7zm4 0h-2V7h2v10zm4 0h-2v-4h2v4z\"/>\n",
              "    </g>\n",
              "</svg>\n",
              "  </button>\n",
              "\n",
              "<style>\n",
              "  .colab-df-quickchart {\n",
              "    background-color: #E8F0FE;\n",
              "    border: none;\n",
              "    border-radius: 50%;\n",
              "    cursor: pointer;\n",
              "    display: none;\n",
              "    fill: #1967D2;\n",
              "    height: 32px;\n",
              "    padding: 0 0 0 0;\n",
              "    width: 32px;\n",
              "  }\n",
              "\n",
              "  .colab-df-quickchart:hover {\n",
              "    background-color: #E2EBFA;\n",
              "    box-shadow: 0px 1px 2px rgba(60, 64, 67, 0.3), 0px 1px 3px 1px rgba(60, 64, 67, 0.15);\n",
              "    fill: #174EA6;\n",
              "  }\n",
              "\n",
              "  [theme=dark] .colab-df-quickchart {\n",
              "    background-color: #3B4455;\n",
              "    fill: #D2E3FC;\n",
              "  }\n",
              "\n",
              "  [theme=dark] .colab-df-quickchart:hover {\n",
              "    background-color: #434B5C;\n",
              "    box-shadow: 0px 1px 3px 1px rgba(0, 0, 0, 0.15);\n",
              "    filter: drop-shadow(0px 1px 2px rgba(0, 0, 0, 0.3));\n",
              "    fill: #FFFFFF;\n",
              "  }\n",
              "</style>\n",
              "\n",
              "  <script>\n",
              "    async function quickchart(key) {\n",
              "      const charts = await google.colab.kernel.invokeFunction(\n",
              "          'suggestCharts', [key], {});\n",
              "    }\n",
              "    (() => {\n",
              "      let quickchartButtonEl =\n",
              "        document.querySelector('#df-f9a93599-02b0-4d24-8a76-fc2bc92ca0c8 button');\n",
              "      quickchartButtonEl.style.display =\n",
              "        google.colab.kernel.accessAllowed ? 'block' : 'none';\n",
              "    })();\n",
              "  </script>\n",
              "</div>\n",
              "    </div>\n",
              "  </div>\n"
            ]
          },
          "metadata": {},
          "execution_count": 105
        }
      ]
    }
  ]
}